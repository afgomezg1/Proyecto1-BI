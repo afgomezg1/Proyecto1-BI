{
 "cells": [
  {
   "cell_type": "markdown",
   "id": "5a35452b",
   "metadata": {},
   "source": [
    "# **Proyecto 1 - Etapa 1**"
   ]
  },
  {
   "cell_type": "markdown",
   "id": "b98c2880",
   "metadata": {},
   "source": [
    "## **Importaciones**"
   ]
  },
  {
   "cell_type": "code",
   "execution_count": 111,
   "id": "a1fe7298",
   "metadata": {},
   "outputs": [
    {
     "name": "stderr",
     "output_type": "stream",
     "text": [
      "[nltk_data] Downloading package stopwords to\n",
      "[nltk_data]     C:\\Users\\andre\\AppData\\Roaming\\nltk_data...\n",
      "[nltk_data]   Package stopwords is already up-to-date!\n",
      "[nltk_data] Downloading package wordnet to\n",
      "[nltk_data]     C:\\Users\\andre\\AppData\\Roaming\\nltk_data...\n",
      "[nltk_data]   Package wordnet is already up-to-date!\n"
     ]
    }
   ],
   "source": [
    "import re\n",
    "import unicodedata\n",
    "\n",
    "import matplotlib.pyplot as plt\n",
    "import nltk\n",
    "import numpy as np\n",
    "import pandas as pd\n",
    "from nltk import PorterStemmer\n",
    "from nltk.corpus import stopwords\n",
    "from nltk.stem import PorterStemmer\n",
    "from sklearn.decomposition import LatentDirichletAllocation\n",
    "from sklearn.feature_extraction.text import CountVectorizer, TfidfTransformer\n",
    "\n",
    "nltk.download('stopwords')\n",
    "nltk.download('wordnet')\n",
    "stop_words = stopwords.words('spanish')\n",
    "wpt = nltk.WordPunctTokenizer()\n",
    "ps = PorterStemmer()\n",
    "import re\n",
    "import unicodedata\n",
    "from collections import Counter\n",
    "\n",
    "import nltk\n",
    "import pandas as pd\n",
    "import seaborn as sns\n",
    "import spacy\n",
    "from langdetect import detect\n",
    "from nltk.corpus import stopwords\n",
    "from nltk.stem import SnowballStemmer\n",
    "from nltk.tokenize import word_tokenize\n",
    "from sklearn.feature_extraction.text import TfidfVectorizer\n",
    "from sklearn.model_selection import train_test_split\n",
    "from sklearn.pipeline import Pipeline"
   ]
  },
  {
   "cell_type": "markdown",
   "id": "c5ae8d60",
   "metadata": {},
   "source": [
    "## **Entendimiento y Preparación de los Datos**"
   ]
  },
  {
   "cell_type": "markdown",
   "id": "eaf8fe5b",
   "metadata": {},
   "source": [
    "### **Entendimiento**"
   ]
  },
  {
   "cell_type": "code",
   "execution_count": 112,
   "id": "7e459aed",
   "metadata": {},
   "outputs": [
    {
     "name": "stdout",
     "output_type": "stream",
     "text": [
      "Dimensiones: (2424, 2) \n",
      "\n",
      "Tipos de datos por columna:\n",
      "textos    object\n",
      "labels     int64\n",
      "dtype: object\n"
     ]
    },
    {
     "data": {
      "text/html": [
       "<div>\n",
       "<style scoped>\n",
       "    .dataframe tbody tr th:only-of-type {\n",
       "        vertical-align: middle;\n",
       "    }\n",
       "\n",
       "    .dataframe tbody tr th {\n",
       "        vertical-align: top;\n",
       "    }\n",
       "\n",
       "    .dataframe thead th {\n",
       "        text-align: right;\n",
       "    }\n",
       "</style>\n",
       "<table border=\"1\" class=\"dataframe\">\n",
       "  <thead>\n",
       "    <tr style=\"text-align: right;\">\n",
       "      <th></th>\n",
       "      <th>textos</th>\n",
       "      <th>labels</th>\n",
       "    </tr>\n",
       "  </thead>\n",
       "  <tbody>\n",
       "    <tr>\n",
       "      <th>0</th>\n",
       "      <td>\"Aprendizaje\" y \"educación\" se consideran sinó...</td>\n",
       "      <td>4</td>\n",
       "    </tr>\n",
       "    <tr>\n",
       "      <th>1</th>\n",
       "      <td>Para los niños más pequeños (bebés y niños peq...</td>\n",
       "      <td>4</td>\n",
       "    </tr>\n",
       "    <tr>\n",
       "      <th>2</th>\n",
       "      <td>Además, la formación de especialistas en medic...</td>\n",
       "      <td>3</td>\n",
       "    </tr>\n",
       "    <tr>\n",
       "      <th>3</th>\n",
       "      <td>En los países de la OCDE se tiende a pasar de ...</td>\n",
       "      <td>4</td>\n",
       "    </tr>\n",
       "    <tr>\n",
       "      <th>4</th>\n",
       "      <td>Este grupo se centró en las personas que padec...</td>\n",
       "      <td>3</td>\n",
       "    </tr>\n",
       "  </tbody>\n",
       "</table>\n",
       "</div>"
      ],
      "text/plain": [
       "                                              textos  labels\n",
       "0  \"Aprendizaje\" y \"educación\" se consideran sinó...       4\n",
       "1  Para los niños más pequeños (bebés y niños peq...       4\n",
       "2  Además, la formación de especialistas en medic...       3\n",
       "3  En los países de la OCDE se tiende a pasar de ...       4\n",
       "4  Este grupo se centró en las personas que padec...       3"
      ]
     },
     "metadata": {},
     "output_type": "display_data"
    },
    {
     "name": "stdout",
     "output_type": "stream",
     "text": [
      "\n",
      "Valores únicos por columna:\n",
      "textos    2424\n",
      "labels       3\n",
      "dtype: int64\n"
     ]
    }
   ],
   "source": [
    "original_data = pd.read_excel('data/Datos_proyecto.xlsx')\n",
    "\n",
    "print(\"Dimensiones:\", original_data.shape, \"\\n\")\n",
    "\n",
    "print(\"Tipos de datos por columna:\")\n",
    "print(original_data.dtypes)\n",
    "\n",
    "display(original_data.head())\n",
    "\n",
    "print(\"\\nValores únicos por columna:\")\n",
    "print(original_data.nunique())"
   ]
  },
  {
   "cell_type": "markdown",
   "id": "fbff1733",
   "metadata": {},
   "source": [
    "El conjunto de datos únicamente tiene 2 columnas. A continuación, se define el diccionario de datos a partir de la información proveida en el enunciado y de la inspección inicial de los encabezados del conjunto de datos.\n",
    "\n",
    "| Atributo | Descripción |\n",
    "|----------|-------------|\n",
    "| textos | String conteniendo opiniones de la ciudadanía provenientes de distintas fuentes vinculadas a la planificación participativa territorial. |\n",
    "| labels | Integer $\\in$ {1, 3, 4} que indica el objetivo de desarrollo sostenible (ODS) para el cual es más relevante la opinión dada en un texto; 1 es \"Fin de la pobreza\", 3 es \"Salud y bienestar\" y 4 es \"Educación de calidad\". |"
   ]
  },
  {
   "cell_type": "markdown",
   "id": "5980d8f6",
   "metadata": {},
   "source": [
    "Hay 2424 filas y 2 columnas. La columna de textos está guardada como el tipo genérico object, pero esto se cambiara en la etapa de validez. Adicionalmente, todos los textos son únicos y solo hay 3 clases en la variable objetivo, lo cual es correcto puesto que, según el enunciado, solo deben clasificarse las opiniones en los ODS 1, 3 y 4."
   ]
  },
  {
   "cell_type": "markdown",
   "id": "7be78e84",
   "metadata": {},
   "source": [
    "Inicialmente, se observa que en los datos proveídos y en el contexto del enunciado no se especificó:\n",
    "- Los posibles idiomas de los textos, pero se preguntó y se confirmó que todos los textos estarán en español.\n",
    "- Si hay longitudes mínimas o máximas para los textos.\n",
    "- Si los textos pueden contener carácteres especiales.\n",
    "- El contexto geográfico y demográfico del que provienen los textos.\n",
    "- Los criterios usados para asignar las etiquetas a los textos.\n",
    "\n",
    "Estas limitaciones deberán ser tomadas en cuenta en el perfilamiento y preprocesamiento y, eventualmente, en el análisis puesto que pueden influir en la interpretación de resultados y en la validez de los métodos aplicados."
   ]
  },
  {
   "cell_type": "code",
   "execution_count": 113,
   "id": "ee6f3e7b",
   "metadata": {},
   "outputs": [],
   "source": [
    "#TODO: Cambiar lo de si los textos son en español en caso de que digan que no.\n",
    "#TODO: Lo de las longitudes."
   ]
  },
  {
   "cell_type": "markdown",
   "id": "cd89f650",
   "metadata": {},
   "source": [
    "### **Perfilamiento de los Datos**"
   ]
  },
  {
   "cell_type": "markdown",
   "id": "5753fb22",
   "metadata": {},
   "source": [
    "Como en el entendimiento se verificó que efectivamente solo aparecen los labels 1, 3 y 4, se procede a revisar la distribución de las clases."
   ]
  },
  {
   "cell_type": "code",
   "execution_count": 114,
   "id": "1b1f03bf",
   "metadata": {},
   "outputs": [
    {
     "data": {
      "image/png": "[encoded data removed]",
      "text/plain": [
       "<Figure size 800x500 with 1 Axes>"
      ]
     },
     "metadata": {},
     "output_type": "display_data"
    },
    {
     "name": "stdout",
     "output_type": "stream",
     "text": [
      "labels\n",
      "4    1025\n",
      "3     894\n",
      "1     505\n",
      "Name: count, dtype: int64\n"
     ]
    }
   ],
   "source": [
    "plt.figure(figsize=(8, 5))\n",
    "sns.countplot(data=original_data, x='labels')\n",
    "plt.title('Distribución de la variable objetivo: labels')\n",
    "plt.ylabel('Cantidad')\n",
    "plt.show()\n",
    "\n",
    "label_counts = original_data['labels'].value_counts()\n",
    "print(label_counts)"
   ]
  },
  {
   "cell_type": "markdown",
   "id": "5117e4b3",
   "metadata": {},
   "source": [
    "Hay desbalance en las clases, siendo la clase 4 la más representada con 1025 filas, seguida por la clase 3 con 894 filas y finalmente por la clase 1 con 505 filas. Esto puede afectar el rendimiento del modelo, sin embargo, la aumentación de datos para intentar balancear las clases se hará hasta la etapa 2 del proyecto."
   ]
  },
  {
   "cell_type": "markdown",
   "id": "5cab1256",
   "metadata": {},
   "source": [
    "Dado que en el entendimiento se verificó que los textos son únicos, se procede a revisar varias carácterísticas de los textos para entender mejor el conjunto de datos."
   ]
  },
  {
   "cell_type": "code",
   "execution_count": 115,
   "id": "222a4bd1",
   "metadata": {},
   "outputs": [
    {
     "data": {
      "image/png": "[encoded data removed]",
      "text/plain": [
       "<Figure size 1000x600 with 1 Axes>"
      ]
     },
     "metadata": {},
     "output_type": "display_data"
    },
    {
     "name": "stdout",
     "output_type": "stream",
     "text": [
      "Estadísticas descriptivas de la cantidad de carácteres de los textos:\n",
      "count    2424.000000\n",
      "mean      683.223185\n",
      "std       223.563695\n",
      "min       303.000000\n",
      "25%       513.000000\n",
      "50%       647.000000\n",
      "75%       809.250000\n",
      "max      1492.000000\n",
      "Name: textos, dtype: float64\n"
     ]
    }
   ],
   "source": [
    "text_character_counts = original_data['textos'].str.len()\n",
    "plt.figure(figsize=(10, 6))\n",
    "sns.histplot(text_character_counts, bins=30, kde=True)\n",
    "plt.title('Distribución de la cantidad de carácteres de los textos')\n",
    "plt.xlabel('Cantidad de carácteres')\n",
    "plt.ylabel('Cantidad de textos')\n",
    "plt.show()\n",
    "\n",
    "print(\"Estadísticas descriptivas de la cantidad de carácteres de los textos:\")\n",
    "print(text_character_counts.describe())"
   ]
  },
  {
   "cell_type": "code",
   "execution_count": 116,
   "id": "eefe507f",
   "metadata": {},
   "outputs": [],
   "source": [
    "#TODO: Escribir análisis"
   ]
  },
  {
   "cell_type": "markdown",
   "id": "1d8470a7",
   "metadata": {},
   "source": []
  },
  {
   "cell_type": "code",
   "execution_count": 117,
   "id": "f654d740",
   "metadata": {},
   "outputs": [
    {
     "data": {
      "image/png": "[encoded data removed]",
      "text/plain": [
       "<Figure size 1000x600 with 1 Axes>"
      ]
     },
     "metadata": {},
     "output_type": "display_data"
    },
    {
     "name": "stdout",
     "output_type": "stream",
     "text": [
      "   character  count\n",
      "3          ,  13523\n",
      "1          ó  11535\n",
      "2          .   9458\n",
      "9          í   5747\n",
      "4          á   5101\n",
      "..       ...    ...\n",
      "52         Ó      1\n",
      "61         =      1\n",
      "62         –      1\n",
      "63         £      1\n",
      "64         ~      1\n",
      "\n",
      "[65 rows x 2 columns]\n",
      "Estadísticas descriptivas de la cantidad de carácteres no alfabéticos:\n",
      "count       65.000000\n",
      "mean      1207.000000\n",
      "std       2650.596425\n",
      "min          1.000000\n",
      "25%          4.000000\n",
      "50%         32.000000\n",
      "75%       1008.000000\n",
      "max      13523.000000\n",
      "Name: count, dtype: float64\n"
     ]
    }
   ],
   "source": [
    "text_non_alpha_chars = original_data['textos'].str.findall(r'[^a-zA-Z\\s]', flags=re.UNICODE)\n",
    "all_non_alpha_chars = [char for sublist in text_non_alpha_chars for char in sublist]\n",
    "non_alpha_char_counts = Counter(all_non_alpha_chars)\n",
    "\n",
    "non_alpha_char_counts_df = pd.DataFrame(non_alpha_char_counts.items(), columns=['character', 'count']).sort_values(by='count', ascending=False)\n",
    "\n",
    "plt.figure(figsize=(10, 6))\n",
    "sns.barplot(data=non_alpha_char_counts_df, x='character', y='count')\n",
    "plt.title('Distribución de carácteres no alfabéticos en los textos')\n",
    "plt.xlabel('Carácter')\n",
    "plt.ylabel('Cantidad de apariciones en todos los textos')\n",
    "plt.show()\n",
    "\n",
    "print(non_alpha_char_counts_df)\n",
    "\n",
    "print(\"Estadísticas descriptivas de la cantidad de carácteres no alfabéticos:\")\n",
    "print(non_alpha_char_counts_df['count'].describe())"
   ]
  },
  {
   "cell_type": "markdown",
   "id": "e7dfd640",
   "metadata": {},
   "source": [
    "Hay una cantidad importante de caracteres especiales en los textos, esto es importante tenerlo en cuenta al momento de normalizar los textos."
   ]
  },
  {
   "cell_type": "code",
   "execution_count": 118,
   "id": "6c8018b7",
   "metadata": {},
   "outputs": [
    {
     "data": {
      "text/plain": [
       "0       352\n",
       "1       516\n",
       "2       659\n",
       "3       693\n",
       "4       608\n",
       "       ... \n",
       "2419    741\n",
       "2420    541\n",
       "2421    352\n",
       "2422    754\n",
       "2423    593\n",
       "Name: textos, Length: 2424, dtype: int64"
      ]
     },
     "execution_count": 118,
     "metadata": {},
     "output_type": "execute_result"
    }
   ],
   "source": [
    "text_character_counts"
   ]
  },
  {
   "cell_type": "code",
   "execution_count": 119,
   "id": "a6709366",
   "metadata": {},
   "outputs": [
    {
     "data": {
      "text/plain": [
       "0       [\", \", \", ó, \", ó, ó, ., ,, ó, ,, ó, ,, ., ó, ...\n",
       "1       [ñ, á, ñ, (, é, ñ, ñ, ), ,, ó, á, á, ó, ., á, ...\n",
       "2       [á, ,, ó, é, á, ú, ,, (, ,, 2, 0, 1, 3, ), ., ...\n",
       "3              [í, ,, ., ó, ., ,, ,, ., á, é, é, ó, ,, .]\n",
       "4       [ó, (, ,, à, á, á, ), ., 9, 0, ó, ,, ó, ñ, \", ...\n",
       "                              ...                        \n",
       "2419    [í, á, ñ, ó, ,, é, ñ, é, ., (, -, ,, ), ,, ,, ...\n",
       "2420    [:, ó, ., (, ), ​, ​, ó, á, ñ, ,, ,, ., é, á, ...\n",
       "2421        [2, 0, 1, 0, ,, ó, ., í, 1, ., á, ó, :, á, .]\n",
       "2422    [,, í, é, ., ó, ú, ó, ,, í, ., ,, (, ), ó, ó, ...\n",
       "2423    [í, ,, (, é, é, ), ,, á, (, (, ó, ó, ), ,, 2, ...\n",
       "Name: textos, Length: 2424, dtype: object"
      ]
     },
     "execution_count": 119,
     "metadata": {},
     "output_type": "execute_result"
    }
   ],
   "source": [
    "text_non_alpha_chars"
   ]
  },
  {
   "cell_type": "code",
   "execution_count": 120,
   "id": "7dc8a354",
   "metadata": {},
   "outputs": [
    {
     "data": {
      "image/png": "[encoded data removed]",
      "text/plain": [
       "<Figure size 1000x600 with 1 Axes>"
      ]
     },
     "metadata": {},
     "output_type": "display_data"
    },
    {
     "data": {
      "text/html": [
       "<div>\n",
       "<style scoped>\n",
       "    .dataframe tbody tr th:only-of-type {\n",
       "        vertical-align: middle;\n",
       "    }\n",
       "\n",
       "    .dataframe tbody tr th {\n",
       "        vertical-align: top;\n",
       "    }\n",
       "\n",
       "    .dataframe thead th {\n",
       "        text-align: right;\n",
       "    }\n",
       "</style>\n",
       "<table border=\"1\" class=\"dataframe\">\n",
       "  <thead>\n",
       "    <tr style=\"text-align: right;\">\n",
       "      <th></th>\n",
       "      <th>special_char_percentage</th>\n",
       "    </tr>\n",
       "  </thead>\n",
       "  <tbody>\n",
       "    <tr>\n",
       "      <th>631</th>\n",
       "      <td>25.208681</td>\n",
       "    </tr>\n",
       "    <tr>\n",
       "      <th>1695</th>\n",
       "      <td>21.644295</td>\n",
       "    </tr>\n",
       "    <tr>\n",
       "      <th>524</th>\n",
       "      <td>18.823529</td>\n",
       "    </tr>\n",
       "    <tr>\n",
       "      <th>546</th>\n",
       "      <td>18.701095</td>\n",
       "    </tr>\n",
       "    <tr>\n",
       "      <th>550</th>\n",
       "      <td>16.964286</td>\n",
       "    </tr>\n",
       "    <tr>\n",
       "      <th>...</th>\n",
       "      <td>...</td>\n",
       "    </tr>\n",
       "    <tr>\n",
       "      <th>1280</th>\n",
       "      <td>1.473297</td>\n",
       "    </tr>\n",
       "    <tr>\n",
       "      <th>144</th>\n",
       "      <td>1.417004</td>\n",
       "    </tr>\n",
       "    <tr>\n",
       "      <th>1367</th>\n",
       "      <td>1.360544</td>\n",
       "    </tr>\n",
       "    <tr>\n",
       "      <th>881</th>\n",
       "      <td>1.272265</td>\n",
       "    </tr>\n",
       "    <tr>\n",
       "      <th>1814</th>\n",
       "      <td>0.878294</td>\n",
       "    </tr>\n",
       "  </tbody>\n",
       "</table>\n",
       "<p>2424 rows × 1 columns</p>\n",
       "</div>"
      ],
      "text/plain": [
       "      special_char_percentage\n",
       "631                 25.208681\n",
       "1695                21.644295\n",
       "524                 18.823529\n",
       "546                 18.701095\n",
       "550                 16.964286\n",
       "...                       ...\n",
       "1280                 1.473297\n",
       "144                  1.417004\n",
       "1367                 1.360544\n",
       "881                  1.272265\n",
       "1814                 0.878294\n",
       "\n",
       "[2424 rows x 1 columns]"
      ]
     },
     "metadata": {},
     "output_type": "display_data"
    },
    {
     "name": "stdout",
     "output_type": "stream",
     "text": [
      "Estadísticas descriptivas del porcentaje de carácteres no alfabéticos por texto:\n",
      "count    2424.000000\n",
      "mean        4.800697\n",
      "std         2.289457\n",
      "min         0.878294\n",
      "25%         3.276147\n",
      "50%         4.240919\n",
      "75%         5.604861\n",
      "max        25.208681\n",
      "Name: special_char_percentage, dtype: float64\n"
     ]
    }
   ],
   "source": [
    "import dis\n",
    "\n",
    "\n",
    "special_char_percentages = [(len(na_chars)/total)*100 for na_chars, total in zip(text_non_alpha_chars, text_character_counts)]\n",
    "\n",
    "special_char_percentages_df = pd.DataFrame({\n",
    "    'special_char_percentage': special_char_percentages\n",
    "})\n",
    "\n",
    "plt.figure(figsize=(10, 6))\n",
    "sns.histplot(special_char_percentages_df['special_char_percentage'], bins=30, kde=True)\n",
    "plt.title('Distribución del porcentaje de carácteres no alfabéticos en los textos')\n",
    "plt.xlabel('Porcentaje de carácteres no alfabéticos')\n",
    "plt.ylabel('Cantidad de textos')\n",
    "plt.show()\n",
    "\n",
    "special_char_percentages_df.sort_values(by='special_char_percentage', ascending=False, inplace=True)\n",
    "display(special_char_percentages_df)\n",
    "\n",
    "print(\"Estadísticas descriptivas del porcentaje de carácteres no alfabéticos por texto:\")\n",
    "print(special_char_percentages_df['special_char_percentage'].describe())"
   ]
  },
  {
   "cell_type": "code",
   "execution_count": 121,
   "id": "0c0acd97",
   "metadata": {},
   "outputs": [],
   "source": [
    "#TODO: Escribir análisis"
   ]
  },
  {
   "cell_type": "markdown",
   "id": "ea4b6fc2",
   "metadata": {},
   "source": []
  },
  {
   "cell_type": "code",
   "execution_count": 122,
   "id": "6e9bb249",
   "metadata": {},
   "outputs": [
    {
     "data": {
      "image/png": "[encoded data removed]",
      "text/plain": [
       "<Figure size 1000x600 with 1 Axes>"
      ]
     },
     "metadata": {},
     "output_type": "display_data"
    },
    {
     "name": "stdout",
     "output_type": "stream",
     "text": [
      "Estadísticas descriptivas de la cantidad de palabras en los textos:\n",
      "count    2424.000000\n",
      "mean      107.924092\n",
      "std        35.575349\n",
      "min        41.000000\n",
      "25%        81.000000\n",
      "50%       102.000000\n",
      "75%       129.000000\n",
      "max       260.000000\n",
      "Name: textos, dtype: float64\n"
     ]
    }
   ],
   "source": [
    "text_word_counts = original_data['textos'].str.split().str.len()\n",
    "plt.figure(figsize=(10, 6))\n",
    "sns.histplot(text_word_counts, bins=30, kde=True)\n",
    "plt.title('Distribución de la cantidad de palabras en los textos')\n",
    "plt.xlabel('Cantidad de palabras')\n",
    "plt.ylabel('Cantidad de textos')\n",
    "plt.show()\n",
    "\n",
    "print(\"Estadísticas descriptivas de la cantidad de palabras en los textos:\")\n",
    "print(text_word_counts.describe())"
   ]
  },
  {
   "cell_type": "code",
   "execution_count": 123,
   "id": "f5aa79c4",
   "metadata": {},
   "outputs": [],
   "source": [
    "#TODO: Completar comentando las estadísticas descriptivas."
   ]
  },
  {
   "cell_type": "markdown",
   "id": "fa613457",
   "metadata": {},
   "source": [
    "La distribución de la longitud de los textos es aproximadamente normal, sin embargo parece tener un sesgo hacia la izquierda."
   ]
  },
  {
   "cell_type": "code",
   "execution_count": 124,
   "id": "87f38dc1",
   "metadata": {},
   "outputs": [
    {
     "name": "stdout",
     "output_type": "stream",
     "text": [
      "Counter({'es': 2424})\n"
     ]
    }
   ],
   "source": [
    "from langdetect import detect\n",
    "from collections import Counter\n",
    "\n",
    "# Detect language for each text\n",
    "languages = original_data['textos'].apply(lambda x: detect(str(x)))\n",
    "\n",
    "# Count occurrences of each language\n",
    "language_counts = Counter(languages)\n",
    "print(language_counts)"
   ]
  },
  {
   "cell_type": "code",
   "execution_count": 125,
   "id": "0f7239db",
   "metadata": {},
   "outputs": [],
   "source": [
    "#TODO: Quitar esto si confirman que todo es en español."
   ]
  },
  {
   "cell_type": "code",
   "execution_count": 126,
   "id": "6b74d8a7",
   "metadata": {},
   "outputs": [
    {
     "data": {
      "image/png": "[encoded data removed]",
      "text/plain": [
       "<Figure size 1200x800 with 1 Axes>"
      ]
     },
     "metadata": {},
     "output_type": "display_data"
    },
    {
     "name": "stdout",
     "output_type": "stream",
     "text": [
      "     stop_word  count\n",
      "0           de  22277\n",
      "1           la  12256\n",
      "4           en   9218\n",
      "7          los   8551\n",
      "5            y   8137\n",
      "..         ...    ...\n",
      "305  tuvieseis      0\n",
      "309     tenida      0\n",
      "310    tenidos      0\n",
      "311    tenidas      0\n",
      "312      tened      0\n",
      "\n",
      "[313 rows x 2 columns]\n",
      "Estadísticas descriptivas de la cantidad de apariciones de stop words:\n",
      "count      313.000000\n",
      "mean       393.067093\n",
      "std       1793.521058\n",
      "min          0.000000\n",
      "25%          0.000000\n",
      "50%          1.000000\n",
      "75%         50.000000\n",
      "max      22277.000000\n",
      "Name: count, dtype: float64\n"
     ]
    }
   ],
   "source": [
    "stop_word_counts = {word: original_data['textos'].str.count(rf'\\b{re.escape(word)}\\b', flags=re.IGNORECASE).sum() for word in stop_words}\n",
    "stop_word_counts_df = pd.DataFrame(list(stop_word_counts.items()), columns=['stop_word', 'count']).sort_values(by='count', ascending=False)\n",
    "\n",
    "plt.figure(figsize=(12, 8))\n",
    "sns.barplot(data=stop_word_counts_df.head(20), x='stop_word', y='count')\n",
    "plt.title('Top 20 stop words más frecuentes en los textos')\n",
    "plt.xlabel('Stop word')\n",
    "plt.ylabel('Cantidad de apariciones en todos los textos')\n",
    "plt.show()\n",
    "\n",
    "print(stop_word_counts_df)\n",
    "\n",
    "print(\"Estadísticas descriptivas de la cantidad de apariciones de stop words:\")\n",
    "print(stop_word_counts_df['count'].describe())"
   ]
  },
  {
   "cell_type": "markdown",
   "id": "406646e4",
   "metadata": {},
   "source": [
    "Hay una cantidad significativa de stop words en los textos, lo cual es esperado en textos que corresponden a las opiniones de personas. Esto también es importante tenerlo en cuenta al momento de normalizar los textos."
   ]
  },
  {
   "cell_type": "code",
   "execution_count": 127,
   "id": "3ccc9cfe",
   "metadata": {},
   "outputs": [],
   "source": [
    "#TODO: Ver por texto el porcentaje de stop words respecto al total de palabras."
   ]
  },
  {
   "cell_type": "markdown",
   "id": "5ee68c03",
   "metadata": {},
   "source": [
    "### **Análisis de Calidad de Datos**"
   ]
  },
  {
   "cell_type": "markdown",
   "id": "ed049f50",
   "metadata": {},
   "source": [
    "#### **Completitud**"
   ]
  },
  {
   "cell_type": "code",
   "execution_count": 128,
   "id": "ca0f758d",
   "metadata": {},
   "outputs": [
    {
     "name": "stdout",
     "output_type": "stream",
     "text": [
      "Valores nulos por columna:\n",
      "textos    0\n",
      "labels    0\n",
      "dtype: int64\n"
     ]
    }
   ],
   "source": [
    "print(\"Valores nulos por columna:\")\n",
    "print(original_data.isnull().sum())"
   ]
  },
  {
   "cell_type": "markdown",
   "id": "dc6c2fed",
   "metadata": {},
   "source": [
    "No hay valores nulos en ninguna de las columnas."
   ]
  },
  {
   "cell_type": "markdown",
   "id": "2b4db048",
   "metadata": {},
   "source": [
    "#### **Unicidad**"
   ]
  },
  {
   "cell_type": "code",
   "execution_count": 129,
   "id": "cd4fe079",
   "metadata": {},
   "outputs": [
    {
     "name": "stdout",
     "output_type": "stream",
     "text": [
      "Cantidad de textos duplicados:\n",
      "0\n"
     ]
    }
   ],
   "source": [
    "print(\"Cantidad de textos duplicados:\")\n",
    "print(original_data['textos'].duplicated().sum())"
   ]
  },
  {
   "cell_type": "markdown",
   "id": "55a65942",
   "metadata": {},
   "source": [
    "No hay textos duplicados. Note que no se revisan duplicados en labels porque esta variable corresponde a las clases."
   ]
  },
  {
   "cell_type": "markdown",
   "id": "a0eacaae",
   "metadata": {},
   "source": [
    "#### **Consistencia**"
   ]
  },
  {
   "cell_type": "markdown",
   "id": "f0b31b97",
   "metadata": {},
   "source": [
    "En este caso, no hay nada que evaluar en consistencia. No es posible juzgar si los textos son consistentes con las clases asignadas y no hay otras columnas que deban ser consistentes entre sí."
   ]
  },
  {
   "cell_type": "markdown",
   "id": "1f450e24",
   "metadata": {},
   "source": [
    "#### **Validez**"
   ]
  },
  {
   "cell_type": "code",
   "execution_count": 130,
   "id": "84662d42",
   "metadata": {},
   "outputs": [
    {
     "name": "stdout",
     "output_type": "stream",
     "text": [
      "Conteo de valores de labels:\n",
      "labels\n",
      "4    1025\n",
      "3     894\n",
      "1     505\n",
      "Name: count, dtype: int64\n"
     ]
    }
   ],
   "source": [
    "print(\"Conteo de valores de labels:\")\n",
    "print(original_data['labels'].value_counts())"
   ]
  },
  {
   "cell_type": "markdown",
   "id": "176643ff",
   "metadata": {},
   "source": [
    "Efectivamente solo están las clases 1, 3 y 4 en la variable objetivo."
   ]
  },
  {
   "cell_type": "code",
   "execution_count": 131,
   "id": "99730bd9",
   "metadata": {},
   "outputs": [],
   "source": [
    "original_data['textos'] = original_data['textos'].astype('string')"
   ]
  },
  {
   "cell_type": "markdown",
   "id": "85e7c311",
   "metadata": {},
   "source": [
    "Se cambia el tipo de dato de la columna 'textos' para que sea explícitamente de tipo string."
   ]
  },
  {
   "cell_type": "code",
   "execution_count": 132,
   "id": "35aa7479",
   "metadata": {},
   "outputs": [
    {
     "name": "stdout",
     "output_type": "stream",
     "text": [
      "Tipos de datos por columna:\n",
      "textos    string[python]\n",
      "labels             int64\n",
      "dtype: object\n"
     ]
    }
   ],
   "source": [
    "print(\"Tipos de datos por columna:\")\n",
    "print(original_data.dtypes)"
   ]
  },
  {
   "cell_type": "markdown",
   "id": "cb316bba",
   "metadata": {},
   "source": [
    "### **Preparación**"
   ]
  },
  {
   "cell_type": "markdown",
   "id": "319cca3b",
   "metadata": {},
   "source": [
    "Opciones interesantes:\n",
    "- Reemplazar caracteres especiales relevantes como tildes, ñ, acentos, etc por caracteres alfabéticos correspondientes. Se podría dejar ñ?\n",
    "- Cambiar caracteres numéricos por su representación en letras o eliminar números.\n",
    "- Lematizar verbos por sus terminaciones de forma manual.\n",
    "- Las contracciones no creo que sean suficientemente relevantes como para hacer un diccionario de reemplazo. Aparecen en las stops words?"
   ]
  },
  {
   "cell_type": "markdown",
   "id": "ad59b931",
   "metadata": {},
   "source": [
    "Obligatorio:\n",
    "- Pasar todo a minúsculas.\n",
    "- Eliminar carácteres especiales irrelevantes.\n",
    "- Lematización o stemming con librería, pero a priori me suena mejor lematización.\n",
    "- Eliminar stop words.\n",
    "- Eliminar no alfabéticos. Será que conviene dejar puntuación? Si se deja puntuación se eliminan caracteres especiales irrelevantes cambiandolos por espacios?\n",
    "- Se vectoriza de una vez? Creería que sí, pero supongo que es posible que esa representación dependa del algoritmo de clasificación que se use."
   ]
  },
  {
   "cell_type": "markdown",
   "id": "54f45d95",
   "metadata": {},
   "source": [
    "Se podrían hacer funciones para que cada uno pruebe con diferentes combinaciones de las opciones anteriores y ver cuál da mejores resultados. No obstante, para stemming, lematización, stop words y vectorización se usarán las librerías estándar y no me complicaré en hacer funciones propias."
   ]
  },
  {
   "cell_type": "code",
   "execution_count": 133,
   "id": "15160f09",
   "metadata": {},
   "outputs": [
    {
     "name": "stderr",
     "output_type": "stream",
     "text": [
      "[nltk_data] Downloading package punkt to\n",
      "[nltk_data]     C:\\Users\\andre\\AppData\\Roaming\\nltk_data...\n",
      "[nltk_data]   Package punkt is already up-to-date!\n",
      "[nltk_data] Downloading package punkt_tab to\n",
      "[nltk_data]     C:\\Users\\andre\\AppData\\Roaming\\nltk_data...\n",
      "[nltk_data]   Package punkt_tab is already up-to-date!\n"
     ]
    },
    {
     "name": "stdout",
     "output_type": "stream",
     "text": [
      "Tamaños: 1939 485\n",
      "Ejemplo procesado: letoni mov direccion plan desarroll atencion primari salud esfuerz mejor calid accesibil servici salud mejor activ prevent evit person recib atencion hospitalari mas costos letoni demostr pued utiliz fuerz laboral maner innov mejor acces atencion primari necesit fortalec papel desempen medic cabecer profesional salud promocion salud particul educ pacient autocontrol enfermedad cronic seccion tres describ estructur sistem atencion primari salud letoni fuerz laboral desafi\n"
     ]
    }
   ],
   "source": [
    "nltk.download('punkt')\n",
    "nltk.download('punkt_tab')\n",
    "\n",
    "def remove_accents(text: str) -> str:\n",
    "    normalized = unicodedata.normalize('NFD', text)\n",
    "    without_accents = ''.join(c for c in normalized if unicodedata.category(c) != 'Mn')\n",
    "    return without_accents\n",
    "\n",
    "def replace_numbers_with_text(text: str) -> str:\n",
    "    num_map = {\n",
    "        '0': 'cero',\n",
    "        '1': 'uno',\n",
    "        '2': 'dos',\n",
    "        '3': 'tres',\n",
    "        '4': 'cuatro',\n",
    "        '5': 'cinco',\n",
    "        '6': 'seis',\n",
    "        '7': 'siete',\n",
    "        '8': 'ocho',\n",
    "        '9': 'nueve'\n",
    "    }\n",
    "    return re.sub(r'\\d', lambda m: num_map[m.group()], text)\n",
    "\n",
    "# -----------------------\n",
    "# Normalización, tokenización, stemming (NLTK)\n",
    "# -----------------------\n",
    "stemmer = SnowballStemmer(\"spanish\")\n",
    "spanish_stopwords = set(stopwords.words(\"spanish\"))\n",
    "\n",
    "def basic_normalize(text: str) -> str:\n",
    "    \"\"\"Limpieza determinista: lowercase, quitar acentos, números->texto, eliminar no-letras.\"\"\"\n",
    "    if text is None:\n",
    "        return \"\"\n",
    "    text = str(text).lower().strip()\n",
    "    text = remove_accents(text)\n",
    "    text = replace_numbers_with_text(text)\n",
    "    # dejar solo letras a-z y espacios (ya quitamos acentos)\n",
    "    text = re.sub(r'[^a-z\\s]', ' ', text, flags=re.UNICODE)\n",
    "    text = re.sub(r'\\s+', ' ', text).strip()\n",
    "    return text\n",
    "\n",
    "def tokenize_text(text: str):\n",
    "    \"\"\"Tokeniza usando word_tokenize (PUNKT).\"\"\"\n",
    "    if not text:\n",
    "        return []\n",
    "    # word_tokenize admite parámetro language, facilita algunos casos\n",
    "    return word_tokenize(text, language='spanish')\n",
    "\n",
    "def stem_tokens(tokens, remove_sw: bool = False):\n",
    "    \"\"\"Aplica SnowballStemmer a la lista de tokens. Opcionalmente quita stopwords.\"\"\"\n",
    "    if remove_sw:\n",
    "        tokens = [t for t in tokens if t not in spanish_stopwords]\n",
    "    return [stemmer.stem(t) for t in tokens if t.strip()]\n",
    "\n",
    "def process_text_once(text: str, remove_stopwords: bool = False) -> str:\n",
    "    \"\"\"Pipeline por texto: normalize -> tokenize -> optional stopwords -> stem -> join.\"\"\"\n",
    "    basic = basic_normalize(text)\n",
    "    toks = tokenize_text(basic)\n",
    "    stems = stem_tokens(toks, remove_sw=remove_stopwords)\n",
    "    return \" \".join(stems)\n",
    "\n",
    "def normalize_texts_nltk(series: pd.Series, remove_stopwords: bool = False) -> pd.Series:\n",
    "    \"\"\"Aplica process_text_once a una pd.Series de textos de forma segura.\"\"\"\n",
    "    series = series.fillna(\"\").astype(str)\n",
    "    return series.apply(lambda s: process_text_once(s, remove_stopwords=remove_stopwords))\n",
    "\n",
    "df = original_data.copy()\n",
    "\n",
    "df['text_processed'] = normalize_texts_nltk(df['textos'], remove_stopwords=True)\n",
    "\n",
    "X = df['text_processed']\n",
    "y = df['labels']\n",
    "\n",
    "X_train, X_test, y_train, y_test = train_test_split(\n",
    "    X, y, test_size=0.2, random_state=42, stratify=y\n",
    ")\n",
    "\n",
    "# ya puedes entrenar vectorizadores / clasificadores usando X_train (fit) y evaluar en X_test (transform)\n",
    "print(\"Tamaños:\", len(X_train), len(X_test))\n",
    "print(\"Ejemplo procesado:\", X_train.iloc[0])"
   ]
  },
  {
   "cell_type": "code",
   "execution_count": 134,
   "id": "c2a23cc3",
   "metadata": {},
   "outputs": [
    {
     "data": {
      "image/png": "[encoded data removed]",
      "text/plain": [
       "<Figure size 1200x500 with 2 Axes>"
      ]
     },
     "metadata": {},
     "output_type": "display_data"
    }
   ],
   "source": [
    "fig, axes = plt.subplots(1, 2, figsize=(12, 5))\n",
    "\n",
    "sns.countplot(x=y_train, ax=axes[0])\n",
    "axes[0].set_title('Distribución de y_train')\n",
    "axes[0].set_xlabel('Clase')\n",
    "axes[0].set_ylabel('Cantidad')\n",
    "\n",
    "sns.countplot(x=y_test, ax=axes[1])\n",
    "axes[1].set_title('Distribución de y_test')\n",
    "axes[1].set_xlabel('Clase')\n",
    "axes[1].set_ylabel('Cantidad')\n",
    "\n",
    "plt.tight_layout()\n",
    "plt.show()"
   ]
  },
  {
   "cell_type": "code",
   "execution_count": 135,
   "id": "92755cbd",
   "metadata": {},
   "outputs": [
    {
     "name": "stdout",
     "output_type": "stream",
     "text": [
      "Proporciones porcentuales de cada clase en y_train:\n",
      "labels\n",
      "4    42.289840\n",
      "3    36.874678\n",
      "1    20.835482\n",
      "Name: proportion, dtype: float64\n",
      "\n",
      "Proporciones porcentuales de cada clase en y_test:\n",
      "labels\n",
      "4    42.268041\n",
      "3    36.907216\n",
      "1    20.824742\n",
      "Name: proportion, dtype: float64\n"
     ]
    }
   ],
   "source": [
    "print(\"Proporciones porcentuales de cada clase en y_train:\")\n",
    "print(y_train.value_counts(normalize=True) * 100)\n",
    "\n",
    "print(\"\\nProporciones porcentuales de cada clase en y_test:\")\n",
    "print(y_test.value_counts(normalize=True) * 100)"
   ]
  },
  {
   "cell_type": "code",
   "execution_count": 136,
   "id": "109b84a6",
   "metadata": {},
   "outputs": [
    {
     "name": "stdout",
     "output_type": "stream",
     "text": [
      "Shapes: X_train (1939, 16145) X_test (485, 16145)\n"
     ]
    }
   ],
   "source": [
    "# Vectorizador elegido: TF-IDF con 1-gram+2-gram\n",
    "vectorizer = TfidfVectorizer(\n",
    "    ngram_range=(1,2),\n",
    "    max_features=50000,   # opcional: cap para controlar dimensionalidad (cantidad de features)\n",
    "    min_df=2,             # opcional: ignora tokens muy raros\n",
    "    norm='l2',\n",
    "    sublinear_tf=True\n",
    ")\n",
    "\n",
    "# Fit SOLO en train, luego transformar train/test\n",
    "X_train_tfidf = vectorizer.fit_transform(X_train)\n",
    "X_test_tfidf  = vectorizer.transform(X_test)\n",
    "\n",
    "print(\"Shapes: X_train\", X_train_tfidf.shape, \"X_test\", X_test_tfidf.shape)"
   ]
  },
  {
   "cell_type": "code",
   "execution_count": 137,
   "id": "8156e46d",
   "metadata": {},
   "outputs": [
    {
     "data": {
      "text/plain": [
       "scipy.sparse._csr.csr_matrix"
      ]
     },
     "execution_count": 137,
     "metadata": {},
     "output_type": "execute_result"
    }
   ],
   "source": [
    "type(X_train_tfidf)"
   ]
  },
  {
   "cell_type": "code",
   "execution_count": 138,
   "id": "e5d2f433",
   "metadata": {},
   "outputs": [
    {
     "data": {
      "text/html": [
       "<div>\n",
       "<style scoped>\n",
       "    .dataframe tbody tr th:only-of-type {\n",
       "        vertical-align: middle;\n",
       "    }\n",
       "\n",
       "    .dataframe tbody tr th {\n",
       "        vertical-align: top;\n",
       "    }\n",
       "\n",
       "    .dataframe thead th {\n",
       "        text-align: right;\n",
       "    }\n",
       "</style>\n",
       "<table border=\"1\" class=\"dataframe\">\n",
       "  <thead>\n",
       "    <tr style=\"text-align: right;\">\n",
       "      <th></th>\n",
       "      <th>abaj</th>\n",
       "      <th>abaj haci</th>\n",
       "      <th>abandon</th>\n",
       "      <th>abandon escol</th>\n",
       "      <th>abandon escuel</th>\n",
       "      <th>abandon estudi</th>\n",
       "      <th>abandon profesion</th>\n",
       "      <th>abandon program</th>\n",
       "      <th>abarc</th>\n",
       "      <th>abarqu</th>\n",
       "      <th>...</th>\n",
       "      <th>xxi inclu</th>\n",
       "      <th>york</th>\n",
       "      <th>york oxford</th>\n",
       "      <th>young</th>\n",
       "      <th>zeland</th>\n",
       "      <th>zeland tambi</th>\n",
       "      <th>zon</th>\n",
       "      <th>zon remot</th>\n",
       "      <th>zon rural</th>\n",
       "      <th>zon urban</th>\n",
       "    </tr>\n",
       "  </thead>\n",
       "  <tbody>\n",
       "    <tr>\n",
       "      <th>2016</th>\n",
       "      <td>0.0</td>\n",
       "      <td>0.0</td>\n",
       "      <td>0.0</td>\n",
       "      <td>0.0</td>\n",
       "      <td>0.0</td>\n",
       "      <td>0.0</td>\n",
       "      <td>0.0</td>\n",
       "      <td>0.0</td>\n",
       "      <td>0.0</td>\n",
       "      <td>0.0</td>\n",
       "      <td>...</td>\n",
       "      <td>0.0</td>\n",
       "      <td>0.0</td>\n",
       "      <td>0.0</td>\n",
       "      <td>0.0</td>\n",
       "      <td>0.0</td>\n",
       "      <td>0.0</td>\n",
       "      <td>0.000000</td>\n",
       "      <td>0.0</td>\n",
       "      <td>0.000000</td>\n",
       "      <td>0.0</td>\n",
       "    </tr>\n",
       "    <tr>\n",
       "      <th>1708</th>\n",
       "      <td>0.0</td>\n",
       "      <td>0.0</td>\n",
       "      <td>0.0</td>\n",
       "      <td>0.0</td>\n",
       "      <td>0.0</td>\n",
       "      <td>0.0</td>\n",
       "      <td>0.0</td>\n",
       "      <td>0.0</td>\n",
       "      <td>0.0</td>\n",
       "      <td>0.0</td>\n",
       "      <td>...</td>\n",
       "      <td>0.0</td>\n",
       "      <td>0.0</td>\n",
       "      <td>0.0</td>\n",
       "      <td>0.0</td>\n",
       "      <td>0.0</td>\n",
       "      <td>0.0</td>\n",
       "      <td>0.104461</td>\n",
       "      <td>0.0</td>\n",
       "      <td>0.115714</td>\n",
       "      <td>0.0</td>\n",
       "    </tr>\n",
       "    <tr>\n",
       "      <th>23</th>\n",
       "      <td>0.0</td>\n",
       "      <td>0.0</td>\n",
       "      <td>0.0</td>\n",
       "      <td>0.0</td>\n",
       "      <td>0.0</td>\n",
       "      <td>0.0</td>\n",
       "      <td>0.0</td>\n",
       "      <td>0.0</td>\n",
       "      <td>0.0</td>\n",
       "      <td>0.0</td>\n",
       "      <td>...</td>\n",
       "      <td>0.0</td>\n",
       "      <td>0.0</td>\n",
       "      <td>0.0</td>\n",
       "      <td>0.0</td>\n",
       "      <td>0.0</td>\n",
       "      <td>0.0</td>\n",
       "      <td>0.000000</td>\n",
       "      <td>0.0</td>\n",
       "      <td>0.000000</td>\n",
       "      <td>0.0</td>\n",
       "    </tr>\n",
       "    <tr>\n",
       "      <th>1884</th>\n",
       "      <td>0.0</td>\n",
       "      <td>0.0</td>\n",
       "      <td>0.0</td>\n",
       "      <td>0.0</td>\n",
       "      <td>0.0</td>\n",
       "      <td>0.0</td>\n",
       "      <td>0.0</td>\n",
       "      <td>0.0</td>\n",
       "      <td>0.0</td>\n",
       "      <td>0.0</td>\n",
       "      <td>...</td>\n",
       "      <td>0.0</td>\n",
       "      <td>0.0</td>\n",
       "      <td>0.0</td>\n",
       "      <td>0.0</td>\n",
       "      <td>0.0</td>\n",
       "      <td>0.0</td>\n",
       "      <td>0.000000</td>\n",
       "      <td>0.0</td>\n",
       "      <td>0.000000</td>\n",
       "      <td>0.0</td>\n",
       "    </tr>\n",
       "    <tr>\n",
       "      <th>280</th>\n",
       "      <td>0.0</td>\n",
       "      <td>0.0</td>\n",
       "      <td>0.0</td>\n",
       "      <td>0.0</td>\n",
       "      <td>0.0</td>\n",
       "      <td>0.0</td>\n",
       "      <td>0.0</td>\n",
       "      <td>0.0</td>\n",
       "      <td>0.0</td>\n",
       "      <td>0.0</td>\n",
       "      <td>...</td>\n",
       "      <td>0.0</td>\n",
       "      <td>0.0</td>\n",
       "      <td>0.0</td>\n",
       "      <td>0.0</td>\n",
       "      <td>0.0</td>\n",
       "      <td>0.0</td>\n",
       "      <td>0.000000</td>\n",
       "      <td>0.0</td>\n",
       "      <td>0.000000</td>\n",
       "      <td>0.0</td>\n",
       "    </tr>\n",
       "  </tbody>\n",
       "</table>\n",
       "<p>5 rows × 16145 columns</p>\n",
       "</div>"
      ],
      "text/plain": [
       "      abaj  abaj haci  abandon  abandon escol  abandon escuel  abandon estudi  \\\n",
       "2016   0.0        0.0      0.0            0.0             0.0             0.0   \n",
       "1708   0.0        0.0      0.0            0.0             0.0             0.0   \n",
       "23     0.0        0.0      0.0            0.0             0.0             0.0   \n",
       "1884   0.0        0.0      0.0            0.0             0.0             0.0   \n",
       "280    0.0        0.0      0.0            0.0             0.0             0.0   \n",
       "\n",
       "      abandon profesion  abandon program  abarc  abarqu  ...  xxi inclu  york  \\\n",
       "2016                0.0              0.0    0.0     0.0  ...        0.0   0.0   \n",
       "1708                0.0              0.0    0.0     0.0  ...        0.0   0.0   \n",
       "23                  0.0              0.0    0.0     0.0  ...        0.0   0.0   \n",
       "1884                0.0              0.0    0.0     0.0  ...        0.0   0.0   \n",
       "280                 0.0              0.0    0.0     0.0  ...        0.0   0.0   \n",
       "\n",
       "      york oxford  young  zeland  zeland tambi       zon  zon remot  \\\n",
       "2016          0.0    0.0     0.0           0.0  0.000000        0.0   \n",
       "1708          0.0    0.0     0.0           0.0  0.104461        0.0   \n",
       "23            0.0    0.0     0.0           0.0  0.000000        0.0   \n",
       "1884          0.0    0.0     0.0           0.0  0.000000        0.0   \n",
       "280           0.0    0.0     0.0           0.0  0.000000        0.0   \n",
       "\n",
       "      zon rural  zon urban  \n",
       "2016   0.000000        0.0  \n",
       "1708   0.115714        0.0  \n",
       "23     0.000000        0.0  \n",
       "1884   0.000000        0.0  \n",
       "280    0.000000        0.0  \n",
       "\n",
       "[5 rows x 16145 columns]"
      ]
     },
     "metadata": {},
     "output_type": "display_data"
    }
   ],
   "source": [
    "feature_names = vectorizer.get_feature_names_out()\n",
    "X_train_tfidf_df = pd.DataFrame(X_train_tfidf.toarray(), columns=feature_names, index=X_train.index)\n",
    "display(X_train_tfidf_df.head())"
   ]
  },
  {
   "cell_type": "code",
   "execution_count": 139,
   "id": "f939dcfd",
   "metadata": {},
   "outputs": [
    {
     "data": {
      "text/html": [
       "<div>\n",
       "<style scoped>\n",
       "    .dataframe tbody tr th:only-of-type {\n",
       "        vertical-align: middle;\n",
       "    }\n",
       "\n",
       "    .dataframe tbody tr th {\n",
       "        vertical-align: top;\n",
       "    }\n",
       "\n",
       "    .dataframe thead th {\n",
       "        text-align: right;\n",
       "    }\n",
       "</style>\n",
       "<table border=\"1\" class=\"dataframe\">\n",
       "  <thead>\n",
       "    <tr style=\"text-align: right;\">\n",
       "      <th></th>\n",
       "      <th>abaj</th>\n",
       "      <th>abaj haci</th>\n",
       "      <th>abandon</th>\n",
       "      <th>abandon escol</th>\n",
       "      <th>abandon escuel</th>\n",
       "      <th>abandon estudi</th>\n",
       "      <th>abandon profesion</th>\n",
       "      <th>abandon program</th>\n",
       "      <th>abarc</th>\n",
       "      <th>abarqu</th>\n",
       "      <th>...</th>\n",
       "      <th>xxi inclu</th>\n",
       "      <th>york</th>\n",
       "      <th>york oxford</th>\n",
       "      <th>young</th>\n",
       "      <th>zeland</th>\n",
       "      <th>zeland tambi</th>\n",
       "      <th>zon</th>\n",
       "      <th>zon remot</th>\n",
       "      <th>zon rural</th>\n",
       "      <th>zon urban</th>\n",
       "    </tr>\n",
       "  </thead>\n",
       "  <tbody>\n",
       "    <tr>\n",
       "      <th>102</th>\n",
       "      <td>0.0</td>\n",
       "      <td>0.0</td>\n",
       "      <td>0.0</td>\n",
       "      <td>0.0</td>\n",
       "      <td>0.0</td>\n",
       "      <td>0.0</td>\n",
       "      <td>0.0</td>\n",
       "      <td>0.0</td>\n",
       "      <td>0.0</td>\n",
       "      <td>0.0</td>\n",
       "      <td>...</td>\n",
       "      <td>0.0</td>\n",
       "      <td>0.0</td>\n",
       "      <td>0.0</td>\n",
       "      <td>0.0</td>\n",
       "      <td>0.113935</td>\n",
       "      <td>0.0</td>\n",
       "      <td>0.0</td>\n",
       "      <td>0.0</td>\n",
       "      <td>0.0</td>\n",
       "      <td>0.0</td>\n",
       "    </tr>\n",
       "    <tr>\n",
       "      <th>1220</th>\n",
       "      <td>0.0</td>\n",
       "      <td>0.0</td>\n",
       "      <td>0.0</td>\n",
       "      <td>0.0</td>\n",
       "      <td>0.0</td>\n",
       "      <td>0.0</td>\n",
       "      <td>0.0</td>\n",
       "      <td>0.0</td>\n",
       "      <td>0.0</td>\n",
       "      <td>0.0</td>\n",
       "      <td>...</td>\n",
       "      <td>0.0</td>\n",
       "      <td>0.0</td>\n",
       "      <td>0.0</td>\n",
       "      <td>0.0</td>\n",
       "      <td>0.000000</td>\n",
       "      <td>0.0</td>\n",
       "      <td>0.0</td>\n",
       "      <td>0.0</td>\n",
       "      <td>0.0</td>\n",
       "      <td>0.0</td>\n",
       "    </tr>\n",
       "    <tr>\n",
       "      <th>233</th>\n",
       "      <td>0.0</td>\n",
       "      <td>0.0</td>\n",
       "      <td>0.0</td>\n",
       "      <td>0.0</td>\n",
       "      <td>0.0</td>\n",
       "      <td>0.0</td>\n",
       "      <td>0.0</td>\n",
       "      <td>0.0</td>\n",
       "      <td>0.0</td>\n",
       "      <td>0.0</td>\n",
       "      <td>...</td>\n",
       "      <td>0.0</td>\n",
       "      <td>0.0</td>\n",
       "      <td>0.0</td>\n",
       "      <td>0.0</td>\n",
       "      <td>0.000000</td>\n",
       "      <td>0.0</td>\n",
       "      <td>0.0</td>\n",
       "      <td>0.0</td>\n",
       "      <td>0.0</td>\n",
       "      <td>0.0</td>\n",
       "    </tr>\n",
       "    <tr>\n",
       "      <th>2056</th>\n",
       "      <td>0.0</td>\n",
       "      <td>0.0</td>\n",
       "      <td>0.0</td>\n",
       "      <td>0.0</td>\n",
       "      <td>0.0</td>\n",
       "      <td>0.0</td>\n",
       "      <td>0.0</td>\n",
       "      <td>0.0</td>\n",
       "      <td>0.0</td>\n",
       "      <td>0.0</td>\n",
       "      <td>...</td>\n",
       "      <td>0.0</td>\n",
       "      <td>0.0</td>\n",
       "      <td>0.0</td>\n",
       "      <td>0.0</td>\n",
       "      <td>0.000000</td>\n",
       "      <td>0.0</td>\n",
       "      <td>0.0</td>\n",
       "      <td>0.0</td>\n",
       "      <td>0.0</td>\n",
       "      <td>0.0</td>\n",
       "    </tr>\n",
       "    <tr>\n",
       "      <th>698</th>\n",
       "      <td>0.0</td>\n",
       "      <td>0.0</td>\n",
       "      <td>0.0</td>\n",
       "      <td>0.0</td>\n",
       "      <td>0.0</td>\n",
       "      <td>0.0</td>\n",
       "      <td>0.0</td>\n",
       "      <td>0.0</td>\n",
       "      <td>0.0</td>\n",
       "      <td>0.0</td>\n",
       "      <td>...</td>\n",
       "      <td>0.0</td>\n",
       "      <td>0.0</td>\n",
       "      <td>0.0</td>\n",
       "      <td>0.0</td>\n",
       "      <td>0.000000</td>\n",
       "      <td>0.0</td>\n",
       "      <td>0.0</td>\n",
       "      <td>0.0</td>\n",
       "      <td>0.0</td>\n",
       "      <td>0.0</td>\n",
       "    </tr>\n",
       "  </tbody>\n",
       "</table>\n",
       "<p>5 rows × 16145 columns</p>\n",
       "</div>"
      ],
      "text/plain": [
       "      abaj  abaj haci  abandon  abandon escol  abandon escuel  abandon estudi  \\\n",
       "102    0.0        0.0      0.0            0.0             0.0             0.0   \n",
       "1220   0.0        0.0      0.0            0.0             0.0             0.0   \n",
       "233    0.0        0.0      0.0            0.0             0.0             0.0   \n",
       "2056   0.0        0.0      0.0            0.0             0.0             0.0   \n",
       "698    0.0        0.0      0.0            0.0             0.0             0.0   \n",
       "\n",
       "      abandon profesion  abandon program  abarc  abarqu  ...  xxi inclu  york  \\\n",
       "102                 0.0              0.0    0.0     0.0  ...        0.0   0.0   \n",
       "1220                0.0              0.0    0.0     0.0  ...        0.0   0.0   \n",
       "233                 0.0              0.0    0.0     0.0  ...        0.0   0.0   \n",
       "2056                0.0              0.0    0.0     0.0  ...        0.0   0.0   \n",
       "698                 0.0              0.0    0.0     0.0  ...        0.0   0.0   \n",
       "\n",
       "      york oxford  young    zeland  zeland tambi  zon  zon remot  zon rural  \\\n",
       "102           0.0    0.0  0.113935           0.0  0.0        0.0        0.0   \n",
       "1220          0.0    0.0  0.000000           0.0  0.0        0.0        0.0   \n",
       "233           0.0    0.0  0.000000           0.0  0.0        0.0        0.0   \n",
       "2056          0.0    0.0  0.000000           0.0  0.0        0.0        0.0   \n",
       "698           0.0    0.0  0.000000           0.0  0.0        0.0        0.0   \n",
       "\n",
       "      zon urban  \n",
       "102         0.0  \n",
       "1220        0.0  \n",
       "233         0.0  \n",
       "2056        0.0  \n",
       "698         0.0  \n",
       "\n",
       "[5 rows x 16145 columns]"
      ]
     },
     "metadata": {},
     "output_type": "display_data"
    }
   ],
   "source": [
    "X_test_tfidf_df = pd.DataFrame(X_test_tfidf.toarray(), columns=feature_names, index=X_test.index)\n",
    "display(X_test_tfidf_df.head())"
   ]
  },
  {
   "cell_type": "code",
   "execution_count": 140,
   "id": "16965e73",
   "metadata": {},
   "outputs": [
    {
     "name": "stdout",
     "output_type": "stream",
     "text": [
      "acuerd              0.176730\n",
      "aprendizaj          0.119333\n",
      "auxiliar            0.251319\n",
      "cad                 0.119333\n",
      "cad vez             0.173810\n",
      "comprension         0.200106\n",
      "consider            0.212139\n",
      "docent              0.127300\n",
      "editorial           0.272550\n",
      "educ                0.141902\n",
      "escolariz           0.215489\n",
      "establec            0.140480\n",
      "examin              0.181579\n",
      "extension           0.241785\n",
      "formacion           0.135051\n",
      "formacion docent    0.213438\n",
      "formal              0.190261\n",
      "gobi                0.182452\n",
      "inadecu             0.219957\n",
      "junt                0.169186\n",
      "marc                0.152379\n",
      "mas                 0.066242\n",
      "organiz             0.250360\n",
      "vez                 0.144803\n",
      "vez mas             0.182452\n",
      "vuelt               0.241785\n",
      "vuelt cad           0.283464\n",
      "Name: 0, dtype: float64\n"
     ]
    }
   ],
   "source": [
    "lowest_index = X_train_tfidf_df.index.min()\n",
    "row_lowest_index = X_train_tfidf_df.loc[lowest_index]\n",
    "nonzero_columns = row_lowest_index[row_lowest_index != 0]\n",
    "print(nonzero_columns)"
   ]
  },
  {
   "cell_type": "markdown",
   "id": "6fc73e41",
   "metadata": {},
   "source": [
    "**RESUMEN PARA USAR DATOS ENTRENAMIENTO Y TEST**"
   ]
  },
  {
   "cell_type": "code",
   "execution_count": 141,
   "id": "08b1faad",
   "metadata": {},
   "outputs": [],
   "source": [
    "df_train = X_train_tfidf_df\n",
    "df_test = X_test_tfidf_df"
   ]
  },
  {
   "cell_type": "markdown",
   "id": "097d305f",
   "metadata": {},
   "source": [
    "Se usó tf-idf con 1-gramas y 2-gramas para vectorizar los textos tras hacer normalización, i.e. pasar a minúsculas, cambiar letras con tíldes y acentos a letras normales, eliminar caracteres especiales, eliminar stop words y stemmizar. Se usó train_test_split con stratify para dividir los datos en entrenamiento y test, con un 80% de los datos para entrenamiento y un 20% para test manteniendo las proporciones de porcentaje de registros por clase en cada conjunto de datos."
   ]
  },
  {
   "cell_type": "code",
   "execution_count": 142,
   "id": "de2478ca",
   "metadata": {},
   "outputs": [
    {
     "name": "stdout",
     "output_type": "stream",
     "text": [
      "(1939, 16145)\n"
     ]
    },
    {
     "data": {
      "text/html": [
       "<div>\n",
       "<style scoped>\n",
       "    .dataframe tbody tr th:only-of-type {\n",
       "        vertical-align: middle;\n",
       "    }\n",
       "\n",
       "    .dataframe tbody tr th {\n",
       "        vertical-align: top;\n",
       "    }\n",
       "\n",
       "    .dataframe thead th {\n",
       "        text-align: right;\n",
       "    }\n",
       "</style>\n",
       "<table border=\"1\" class=\"dataframe\">\n",
       "  <thead>\n",
       "    <tr style=\"text-align: right;\">\n",
       "      <th></th>\n",
       "      <th>abaj</th>\n",
       "      <th>abaj haci</th>\n",
       "      <th>abandon</th>\n",
       "      <th>abandon escol</th>\n",
       "      <th>abandon escuel</th>\n",
       "      <th>abandon estudi</th>\n",
       "      <th>abandon profesion</th>\n",
       "      <th>abandon program</th>\n",
       "      <th>abarc</th>\n",
       "      <th>abarqu</th>\n",
       "      <th>...</th>\n",
       "      <th>xxi inclu</th>\n",
       "      <th>york</th>\n",
       "      <th>york oxford</th>\n",
       "      <th>young</th>\n",
       "      <th>zeland</th>\n",
       "      <th>zeland tambi</th>\n",
       "      <th>zon</th>\n",
       "      <th>zon remot</th>\n",
       "      <th>zon rural</th>\n",
       "      <th>zon urban</th>\n",
       "    </tr>\n",
       "  </thead>\n",
       "  <tbody>\n",
       "    <tr>\n",
       "      <th>2016</th>\n",
       "      <td>0.0</td>\n",
       "      <td>0.0</td>\n",
       "      <td>0.0</td>\n",
       "      <td>0.0</td>\n",
       "      <td>0.0</td>\n",
       "      <td>0.0</td>\n",
       "      <td>0.0</td>\n",
       "      <td>0.0</td>\n",
       "      <td>0.0</td>\n",
       "      <td>0.0</td>\n",
       "      <td>...</td>\n",
       "      <td>0.0</td>\n",
       "      <td>0.0</td>\n",
       "      <td>0.0</td>\n",
       "      <td>0.0</td>\n",
       "      <td>0.0</td>\n",
       "      <td>0.0</td>\n",
       "      <td>0.000000</td>\n",
       "      <td>0.0</td>\n",
       "      <td>0.000000</td>\n",
       "      <td>0.0</td>\n",
       "    </tr>\n",
       "    <tr>\n",
       "      <th>1708</th>\n",
       "      <td>0.0</td>\n",
       "      <td>0.0</td>\n",
       "      <td>0.0</td>\n",
       "      <td>0.0</td>\n",
       "      <td>0.0</td>\n",
       "      <td>0.0</td>\n",
       "      <td>0.0</td>\n",
       "      <td>0.0</td>\n",
       "      <td>0.0</td>\n",
       "      <td>0.0</td>\n",
       "      <td>...</td>\n",
       "      <td>0.0</td>\n",
       "      <td>0.0</td>\n",
       "      <td>0.0</td>\n",
       "      <td>0.0</td>\n",
       "      <td>0.0</td>\n",
       "      <td>0.0</td>\n",
       "      <td>0.104461</td>\n",
       "      <td>0.0</td>\n",
       "      <td>0.115714</td>\n",
       "      <td>0.0</td>\n",
       "    </tr>\n",
       "    <tr>\n",
       "      <th>23</th>\n",
       "      <td>0.0</td>\n",
       "      <td>0.0</td>\n",
       "      <td>0.0</td>\n",
       "      <td>0.0</td>\n",
       "      <td>0.0</td>\n",
       "      <td>0.0</td>\n",
       "      <td>0.0</td>\n",
       "      <td>0.0</td>\n",
       "      <td>0.0</td>\n",
       "      <td>0.0</td>\n",
       "      <td>...</td>\n",
       "      <td>0.0</td>\n",
       "      <td>0.0</td>\n",
       "      <td>0.0</td>\n",
       "      <td>0.0</td>\n",
       "      <td>0.0</td>\n",
       "      <td>0.0</td>\n",
       "      <td>0.000000</td>\n",
       "      <td>0.0</td>\n",
       "      <td>0.000000</td>\n",
       "      <td>0.0</td>\n",
       "    </tr>\n",
       "    <tr>\n",
       "      <th>1884</th>\n",
       "      <td>0.0</td>\n",
       "      <td>0.0</td>\n",
       "      <td>0.0</td>\n",
       "      <td>0.0</td>\n",
       "      <td>0.0</td>\n",
       "      <td>0.0</td>\n",
       "      <td>0.0</td>\n",
       "      <td>0.0</td>\n",
       "      <td>0.0</td>\n",
       "      <td>0.0</td>\n",
       "      <td>...</td>\n",
       "      <td>0.0</td>\n",
       "      <td>0.0</td>\n",
       "      <td>0.0</td>\n",
       "      <td>0.0</td>\n",
       "      <td>0.0</td>\n",
       "      <td>0.0</td>\n",
       "      <td>0.000000</td>\n",
       "      <td>0.0</td>\n",
       "      <td>0.000000</td>\n",
       "      <td>0.0</td>\n",
       "    </tr>\n",
       "    <tr>\n",
       "      <th>280</th>\n",
       "      <td>0.0</td>\n",
       "      <td>0.0</td>\n",
       "      <td>0.0</td>\n",
       "      <td>0.0</td>\n",
       "      <td>0.0</td>\n",
       "      <td>0.0</td>\n",
       "      <td>0.0</td>\n",
       "      <td>0.0</td>\n",
       "      <td>0.0</td>\n",
       "      <td>0.0</td>\n",
       "      <td>...</td>\n",
       "      <td>0.0</td>\n",
       "      <td>0.0</td>\n",
       "      <td>0.0</td>\n",
       "      <td>0.0</td>\n",
       "      <td>0.0</td>\n",
       "      <td>0.0</td>\n",
       "      <td>0.000000</td>\n",
       "      <td>0.0</td>\n",
       "      <td>0.000000</td>\n",
       "      <td>0.0</td>\n",
       "    </tr>\n",
       "  </tbody>\n",
       "</table>\n",
       "<p>5 rows × 16145 columns</p>\n",
       "</div>"
      ],
      "text/plain": [
       "      abaj  abaj haci  abandon  abandon escol  abandon escuel  abandon estudi  \\\n",
       "2016   0.0        0.0      0.0            0.0             0.0             0.0   \n",
       "1708   0.0        0.0      0.0            0.0             0.0             0.0   \n",
       "23     0.0        0.0      0.0            0.0             0.0             0.0   \n",
       "1884   0.0        0.0      0.0            0.0             0.0             0.0   \n",
       "280    0.0        0.0      0.0            0.0             0.0             0.0   \n",
       "\n",
       "      abandon profesion  abandon program  abarc  abarqu  ...  xxi inclu  york  \\\n",
       "2016                0.0              0.0    0.0     0.0  ...        0.0   0.0   \n",
       "1708                0.0              0.0    0.0     0.0  ...        0.0   0.0   \n",
       "23                  0.0              0.0    0.0     0.0  ...        0.0   0.0   \n",
       "1884                0.0              0.0    0.0     0.0  ...        0.0   0.0   \n",
       "280                 0.0              0.0    0.0     0.0  ...        0.0   0.0   \n",
       "\n",
       "      york oxford  young  zeland  zeland tambi       zon  zon remot  \\\n",
       "2016          0.0    0.0     0.0           0.0  0.000000        0.0   \n",
       "1708          0.0    0.0     0.0           0.0  0.104461        0.0   \n",
       "23            0.0    0.0     0.0           0.0  0.000000        0.0   \n",
       "1884          0.0    0.0     0.0           0.0  0.000000        0.0   \n",
       "280           0.0    0.0     0.0           0.0  0.000000        0.0   \n",
       "\n",
       "      zon rural  zon urban  \n",
       "2016   0.000000        0.0  \n",
       "1708   0.115714        0.0  \n",
       "23     0.000000        0.0  \n",
       "1884   0.000000        0.0  \n",
       "280    0.000000        0.0  \n",
       "\n",
       "[5 rows x 16145 columns]"
      ]
     },
     "metadata": {},
     "output_type": "display_data"
    }
   ],
   "source": [
    "print(df_train.shape)\n",
    "display(df_train.head())"
   ]
  },
  {
   "cell_type": "code",
   "execution_count": 143,
   "id": "75dbb64a",
   "metadata": {},
   "outputs": [
    {
     "name": "stdout",
     "output_type": "stream",
     "text": [
      "(485, 16145)\n"
     ]
    },
    {
     "data": {
      "text/html": [
       "<div>\n",
       "<style scoped>\n",
       "    .dataframe tbody tr th:only-of-type {\n",
       "        vertical-align: middle;\n",
       "    }\n",
       "\n",
       "    .dataframe tbody tr th {\n",
       "        vertical-align: top;\n",
       "    }\n",
       "\n",
       "    .dataframe thead th {\n",
       "        text-align: right;\n",
       "    }\n",
       "</style>\n",
       "<table border=\"1\" class=\"dataframe\">\n",
       "  <thead>\n",
       "    <tr style=\"text-align: right;\">\n",
       "      <th></th>\n",
       "      <th>abaj</th>\n",
       "      <th>abaj haci</th>\n",
       "      <th>abandon</th>\n",
       "      <th>abandon escol</th>\n",
       "      <th>abandon escuel</th>\n",
       "      <th>abandon estudi</th>\n",
       "      <th>abandon profesion</th>\n",
       "      <th>abandon program</th>\n",
       "      <th>abarc</th>\n",
       "      <th>abarqu</th>\n",
       "      <th>...</th>\n",
       "      <th>xxi inclu</th>\n",
       "      <th>york</th>\n",
       "      <th>york oxford</th>\n",
       "      <th>young</th>\n",
       "      <th>zeland</th>\n",
       "      <th>zeland tambi</th>\n",
       "      <th>zon</th>\n",
       "      <th>zon remot</th>\n",
       "      <th>zon rural</th>\n",
       "      <th>zon urban</th>\n",
       "    </tr>\n",
       "  </thead>\n",
       "  <tbody>\n",
       "    <tr>\n",
       "      <th>102</th>\n",
       "      <td>0.0</td>\n",
       "      <td>0.0</td>\n",
       "      <td>0.0</td>\n",
       "      <td>0.0</td>\n",
       "      <td>0.0</td>\n",
       "      <td>0.0</td>\n",
       "      <td>0.0</td>\n",
       "      <td>0.0</td>\n",
       "      <td>0.0</td>\n",
       "      <td>0.0</td>\n",
       "      <td>...</td>\n",
       "      <td>0.0</td>\n",
       "      <td>0.0</td>\n",
       "      <td>0.0</td>\n",
       "      <td>0.0</td>\n",
       "      <td>0.113935</td>\n",
       "      <td>0.0</td>\n",
       "      <td>0.0</td>\n",
       "      <td>0.0</td>\n",
       "      <td>0.0</td>\n",
       "      <td>0.0</td>\n",
       "    </tr>\n",
       "    <tr>\n",
       "      <th>1220</th>\n",
       "      <td>0.0</td>\n",
       "      <td>0.0</td>\n",
       "      <td>0.0</td>\n",
       "      <td>0.0</td>\n",
       "      <td>0.0</td>\n",
       "      <td>0.0</td>\n",
       "      <td>0.0</td>\n",
       "      <td>0.0</td>\n",
       "      <td>0.0</td>\n",
       "      <td>0.0</td>\n",
       "      <td>...</td>\n",
       "      <td>0.0</td>\n",
       "      <td>0.0</td>\n",
       "      <td>0.0</td>\n",
       "      <td>0.0</td>\n",
       "      <td>0.000000</td>\n",
       "      <td>0.0</td>\n",
       "      <td>0.0</td>\n",
       "      <td>0.0</td>\n",
       "      <td>0.0</td>\n",
       "      <td>0.0</td>\n",
       "    </tr>\n",
       "    <tr>\n",
       "      <th>233</th>\n",
       "      <td>0.0</td>\n",
       "      <td>0.0</td>\n",
       "      <td>0.0</td>\n",
       "      <td>0.0</td>\n",
       "      <td>0.0</td>\n",
       "      <td>0.0</td>\n",
       "      <td>0.0</td>\n",
       "      <td>0.0</td>\n",
       "      <td>0.0</td>\n",
       "      <td>0.0</td>\n",
       "      <td>...</td>\n",
       "      <td>0.0</td>\n",
       "      <td>0.0</td>\n",
       "      <td>0.0</td>\n",
       "      <td>0.0</td>\n",
       "      <td>0.000000</td>\n",
       "      <td>0.0</td>\n",
       "      <td>0.0</td>\n",
       "      <td>0.0</td>\n",
       "      <td>0.0</td>\n",
       "      <td>0.0</td>\n",
       "    </tr>\n",
       "    <tr>\n",
       "      <th>2056</th>\n",
       "      <td>0.0</td>\n",
       "      <td>0.0</td>\n",
       "      <td>0.0</td>\n",
       "      <td>0.0</td>\n",
       "      <td>0.0</td>\n",
       "      <td>0.0</td>\n",
       "      <td>0.0</td>\n",
       "      <td>0.0</td>\n",
       "      <td>0.0</td>\n",
       "      <td>0.0</td>\n",
       "      <td>...</td>\n",
       "      <td>0.0</td>\n",
       "      <td>0.0</td>\n",
       "      <td>0.0</td>\n",
       "      <td>0.0</td>\n",
       "      <td>0.000000</td>\n",
       "      <td>0.0</td>\n",
       "      <td>0.0</td>\n",
       "      <td>0.0</td>\n",
       "      <td>0.0</td>\n",
       "      <td>0.0</td>\n",
       "    </tr>\n",
       "    <tr>\n",
       "      <th>698</th>\n",
       "      <td>0.0</td>\n",
       "      <td>0.0</td>\n",
       "      <td>0.0</td>\n",
       "      <td>0.0</td>\n",
       "      <td>0.0</td>\n",
       "      <td>0.0</td>\n",
       "      <td>0.0</td>\n",
       "      <td>0.0</td>\n",
       "      <td>0.0</td>\n",
       "      <td>0.0</td>\n",
       "      <td>...</td>\n",
       "      <td>0.0</td>\n",
       "      <td>0.0</td>\n",
       "      <td>0.0</td>\n",
       "      <td>0.0</td>\n",
       "      <td>0.000000</td>\n",
       "      <td>0.0</td>\n",
       "      <td>0.0</td>\n",
       "      <td>0.0</td>\n",
       "      <td>0.0</td>\n",
       "      <td>0.0</td>\n",
       "    </tr>\n",
       "  </tbody>\n",
       "</table>\n",
       "<p>5 rows × 16145 columns</p>\n",
       "</div>"
      ],
      "text/plain": [
       "      abaj  abaj haci  abandon  abandon escol  abandon escuel  abandon estudi  \\\n",
       "102    0.0        0.0      0.0            0.0             0.0             0.0   \n",
       "1220   0.0        0.0      0.0            0.0             0.0             0.0   \n",
       "233    0.0        0.0      0.0            0.0             0.0             0.0   \n",
       "2056   0.0        0.0      0.0            0.0             0.0             0.0   \n",
       "698    0.0        0.0      0.0            0.0             0.0             0.0   \n",
       "\n",
       "      abandon profesion  abandon program  abarc  abarqu  ...  xxi inclu  york  \\\n",
       "102                 0.0              0.0    0.0     0.0  ...        0.0   0.0   \n",
       "1220                0.0              0.0    0.0     0.0  ...        0.0   0.0   \n",
       "233                 0.0              0.0    0.0     0.0  ...        0.0   0.0   \n",
       "2056                0.0              0.0    0.0     0.0  ...        0.0   0.0   \n",
       "698                 0.0              0.0    0.0     0.0  ...        0.0   0.0   \n",
       "\n",
       "      york oxford  young    zeland  zeland tambi  zon  zon remot  zon rural  \\\n",
       "102           0.0    0.0  0.113935           0.0  0.0        0.0        0.0   \n",
       "1220          0.0    0.0  0.000000           0.0  0.0        0.0        0.0   \n",
       "233           0.0    0.0  0.000000           0.0  0.0        0.0        0.0   \n",
       "2056          0.0    0.0  0.000000           0.0  0.0        0.0        0.0   \n",
       "698           0.0    0.0  0.000000           0.0  0.0        0.0        0.0   \n",
       "\n",
       "      zon urban  \n",
       "102         0.0  \n",
       "1220        0.0  \n",
       "233         0.0  \n",
       "2056        0.0  \n",
       "698         0.0  \n",
       "\n",
       "[5 rows x 16145 columns]"
      ]
     },
     "metadata": {},
     "output_type": "display_data"
    }
   ],
   "source": [
    "print(df_test.shape)\n",
    "display(df_test.head())"
   ]
  }
 ],
 "metadata": {
  "kernelspec": {
   "display_name": "Python 3",
   "language": "python",
   "name": "python3"
  },
  "language_info": {
   "codemirror_mode": {
    "name": "ipython",
    "version": 3
   },
   "file_extension": ".py",
   "mimetype": "text/x-python",
   "name": "python",
   "nbconvert_exporter": "python",
   "pygments_lexer": "ipython3",
   "version": "3.12.8"
  }
 },
 "nbformat": 4,
 "nbformat_minor": 5
}
